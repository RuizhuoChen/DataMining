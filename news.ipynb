{
 "cells": [
  {
   "cell_type": "code",
   "execution_count": 1,
   "id": "6532a7b5",
   "metadata": {},
   "outputs": [
    {
     "name": "stdout",
     "output_type": "stream",
     "text": [
      "['IBM hardware', 'Mac hardware', 'automobiles', 'baseball', 'electronics', 'hockey', 'motorbikes', 'use of guns']\n",
      "[6 6 0 5 0 6 3 4 7 4 0 2 6 0 3 3 2 3 6 5 6 5 6 7 3 0 2 6 7 5 2 0 5 3 0 0 6\n",
      " 3 7 7 1 2 1 3 5 5 4 5 6 5 2 1 6 2 3 3 4 3 1 1 4 7 6 3 2 4 0 7 3 0 5 1 7 0\n",
      " 0 1 3 4 5 5 4 1 0 0 5 7 7 2 3 0 6 7 2 3 6 6 7 7 0 7 1 4 0 1 0 2 3 7 2 3 4\n",
      " 5 0 0 7 1 5 7 2 2 3 3 1 7 2 2 5 0 2 6 6 2 0 6 3 5 7 3 6 4 2 5 4 2 0 4 1 3\n",
      " 6 5 6 0 7 7 5 5 7 7 5 6 2 6 3 3 3 0 1 3 3 4 3 7 1 3 2 6 0 7 6 5 6 5 1 7 6\n",
      " 0 5 6 4 6 4 4 2 5 5 0 6 1 7 5 2 1 0 5 1 0 0 6 3 4 7 1 0 1 1 0 4 1 2 7 7 1\n",
      " 6 3 1 4 0 7 7 0 5 2 1 2 2 2 4 3 1 3 4 5 7 4 0 4 1 3 0 2 4 6 2 2 5 3 0 7 3\n",
      " 3 0 3 7 6 5 3 2 0 5 7 0 0 4 2 4 1 5 5 2 4 4 3 3 4 4 1 6 3 1 2 5 7 0 6 4 1\n",
      " 1 3 0 4 0 5 7 7 5 4 4 0 4 0 0 1 7 6 4 1 5 5 1 6 7 2 7 5 0 0 3 2 5 4 3 4 4\n",
      " 6 7 3 4 0 2 0 2 5 6 7 6 3 6 2 2 0 5 3 5 2 1 6 3 1 0 4 6 2 0 5 1 2 2 0 7 1\n",
      " 1 6 2 2 0 7 6 7 4 2 6 1 2 7 4 4 2 3 5 1 6 7 7 5 3 2 5 3 3 4 0 3 3 5 2 1 7\n",
      " 6 1 0 5 4 1 4 7 5 7 1 3 4 5 7 1 1 6 6 1 5 0 4 7 4 3 3 7 1 3 1 3 2 3 0 1 6\n",
      " 3 3 7 0 4 4 3 3 0 5 1 0 1 2 2 6 4 5 2 6 1 1 4 5 3 4 2 1 4 1 3 4 0 5 2 2 0\n",
      " 1 3 2 5 4 5 4 7 1 1 5 7 5 0 1 3 6 5 5 7 5 7 5 0 7 0 7 1 6 1 0 5 0 7 7 4 2\n",
      " 5 2 0 6 4 3 2 0 7 3 4 7 6 6 1 6 6 5 7 6 7 1 7 1 5 5 6 1 2 7 1 4 4 1 0 1 4\n",
      " 7 2 6 6 0 6 0 4 2 3 6 5 5 2 2 4 1 6 7 5 4 1 1 5 7 6 3 4 3 1 1 6 1 7 1 2 2\n",
      " 4 1 1 2 4 2 4 7 1 4 6 6 7 2 7 6 7 6 3 7 5 2 7 4 4 1 2 6 6 3 2 6 3 4 7 3 2\n",
      " 6 2 3 3 2 7 6 4 3 5 6 7 7 7 6 6 6 6 5 5 0 2 1 5 0 5 1 6 6 6 7 0 5 2 5 4 5\n",
      " 7 2 3 3 6 2 0 6 7 6 5 0 5 4 5 0 0 2 1 0 7 2 4 3 2 4 6 3 5 4 1 0 4 6 1 7 5\n",
      " 0 0 1 0 4 3 1 2 0 3 2 7 2 4 4 7 2 2 1 5 4 7 4 1 5 3 0 7 5 0 2 0 5 4 4 3 0\n",
      " 3 5 3 2 0 3 6 3 2 1 7 6 4 7 5 2 5 5 6 1 6 4 6 5 0 4 5 7 2 0 3 4 1 2 1 3 4\n",
      " 4 3 7 3 6 1 6 0 3 0 4 3 2 4 1 6 0 7 0 1 2 4 1]\n"
     ]
    }
   ],
   "source": [
    "import pandas as pd\n",
    "from sklearn.datasets import load_files\n",
    "\n",
    "PATH = 'dataset_news'\n",
    "categories = ['automobiles','baseball', 'electronics', 'hockey','IBM hardware', 'motorbikes', 'use of guns', 'Mac hardware']\n",
    "data = load_files(container_path=PATH,categories=categories, \n",
    "                                  shuffle=True, random_state=42)\n",
    "print(data.target_names)\n",
    "print(data.target)"
   ]
  },
  {
   "cell_type": "code",
   "execution_count": 2,
   "id": "38d7eef7",
   "metadata": {},
   "outputs": [
    {
     "name": "stdout",
     "output_type": "stream",
     "text": [
      "(800, 14551)\n",
      "[[0 0 0 ... 0 0 0]\n",
      " [0 0 0 ... 0 0 0]\n",
      " [0 0 0 ... 0 0 0]\n",
      " ...\n",
      " [0 2 0 ... 0 0 0]\n",
      " [0 0 0 ... 0 0 0]\n",
      " [0 0 0 ... 0 0 0]]\n"
     ]
    }
   ],
   "source": [
    "from sklearn.feature_extraction.text import CountVectorizer\n",
    "\n",
    "count_vect = CountVectorizer(stop_words=\"english\")\n",
    "X_train_counts = count_vect.fit_transform(data.data).todense()\n",
    "print(X_train_counts.shape)\n",
    "print(X_train_counts)\n",
    "# count_vect.vocabulary_.get(u'hockey')"
   ]
  },
  {
   "cell_type": "code",
   "execution_count": 3,
   "id": "d386212c",
   "metadata": {},
   "outputs": [
    {
     "data": {
      "text/plain": [
       "(800, 14551)"
      ]
     },
     "execution_count": 3,
     "metadata": {},
     "output_type": "execute_result"
    }
   ],
   "source": [
    "import numpy as np\n",
    "from sklearn.feature_extraction.text import TfidfTransformer\n",
    "tfidf_transformer = TfidfTransformer()\n",
    "X_train_tfidf = tfidf_transformer.fit_transform(np.asarray(X_train_counts)).todense()\n",
    "X_train_tfidf.shape"
   ]
  },
  {
   "cell_type": "markdown",
   "id": "79c426bf",
   "metadata": {},
   "source": [
    "# 2."
   ]
  },
  {
   "cell_type": "code",
   "execution_count": 4,
   "id": "1f9f8acb",
   "metadata": {},
   "outputs": [
    {
     "name": "stdout",
     "output_type": "stream",
     "text": [
      "Number of mislabeled points out of a total 800 points : 18\n"
     ]
    }
   ],
   "source": [
    "from sklearn.naive_bayes import MultinomialNB\n",
    "#used when all features follow a multinomial distribution\n",
    "X=np.asarray(X_train_tfidf)\n",
    "mnb = MultinomialNB(alpha=1.0) \n",
    "mnb.fit (X,data.target) \n",
    "\n",
    "y_pred = mnb.predict(X)\n",
    "print (\"Number of mislabeled points out of a total %d points : %d\" % \\\n",
    "(len(data.target),(data.target != y_pred).sum()))"
   ]
  },
  {
   "cell_type": "code",
   "execution_count": 5,
   "id": "e7ac5033",
   "metadata": {},
   "outputs": [
    {
     "name": "stdout",
     "output_type": "stream",
     "text": [
      "Number of mislabeled points out of a total 800 points : 26\n"
     ]
    }
   ],
   "source": [
    "from sklearn.naive_bayes import GaussianNB\n",
    "\n",
    "gnb = GaussianNB()\n",
    "gnb.fit(X,data.target)\n",
    "\n",
    "y_pred = gnb.predict(X)\n",
    "print (\"Number of mislabeled points out of a total %d points : %d\" % \\\n",
    "(len(data.target),(data.target != y_pred).sum()))"
   ]
  },
  {
   "cell_type": "markdown",
   "id": "7242281e",
   "metadata": {},
   "source": [
    "# 3a"
   ]
  },
  {
   "cell_type": "code",
   "execution_count": 6,
   "id": "d9e4b7b8",
   "metadata": {},
   "outputs": [
    {
     "name": "stdout",
     "output_type": "stream",
     "text": [
      "1 Fold\n",
      "Number of mislabeled points out of a total 80 points : 15\n",
      "2 Fold\n",
      "Number of mislabeled points out of a total 80 points : 12\n",
      "3 Fold\n",
      "Number of mislabeled points out of a total 80 points : 20\n",
      "4 Fold\n",
      "Number of mislabeled points out of a total 80 points : 19\n",
      "5 Fold\n",
      "Number of mislabeled points out of a total 80 points : 14\n",
      "6 Fold\n",
      "Number of mislabeled points out of a total 80 points : 20\n",
      "7 Fold\n",
      "Number of mislabeled points out of a total 80 points : 15\n",
      "8 Fold\n",
      "Number of mislabeled points out of a total 80 points : 24\n",
      "9 Fold\n",
      "Number of mislabeled points out of a total 80 points : 18\n",
      "10 Fold\n",
      "Number of mislabeled points out of a total 80 points : 18\n",
      "Average accuracy of MultinomialNB is 0.781250\n"
     ]
    }
   ],
   "source": [
    "import numpy as np\n",
    "from sklearn.model_selection import KFold\n",
    "\n",
    "kf = KFold(n_splits=10)\n",
    "counter = 1\n",
    "error_data = 0\n",
    "for train, test in kf.split(X):\n",
    "    print (\"%d Fold\" % counter)\n",
    "#     print (\"%s %s\" % (train, test))\n",
    "#     print (np.array(X)[train])\n",
    "#     print (np.array(X)[test])\n",
    "#     print(data.target[train])\n",
    "#     print(data.target[test])\n",
    "    counter += 1\n",
    "    # train and predict using your model\n",
    "    # count the accuracy\n",
    "    mnb.fit(np.array(X)[train],data.target[train])\n",
    "    y_pred = mnb.predict(np.array(X)[test])\n",
    "    print (\"Number of mislabeled points out of a total %d points : %d\" % \\\n",
    "    (len(data.target[test]),(data.target[test] != y_pred).sum()))\n",
    "    error_data+=(data.target[test] != y_pred).sum()\n",
    "accuracy=1-error_data/(len(data.target[test])*10)\n",
    "print(\"Average accuracy of MultinomialNB is %f\" % accuracy )\n",
    "# print the average accuracy"
   ]
  },
  {
   "cell_type": "code",
   "execution_count": 7,
   "id": "c5db4fd4",
   "metadata": {},
   "outputs": [
    {
     "name": "stdout",
     "output_type": "stream",
     "text": [
      "1 Fold\n",
      "Number of mislabeled points out of a total 80 points : 23\n",
      "2 Fold\n",
      "Number of mislabeled points out of a total 80 points : 19\n",
      "3 Fold\n",
      "Number of mislabeled points out of a total 80 points : 25\n",
      "4 Fold\n",
      "Number of mislabeled points out of a total 80 points : 22\n",
      "5 Fold\n",
      "Number of mislabeled points out of a total 80 points : 18\n",
      "6 Fold\n",
      "Number of mislabeled points out of a total 80 points : 27\n",
      "7 Fold\n",
      "Number of mislabeled points out of a total 80 points : 22\n",
      "8 Fold\n",
      "Number of mislabeled points out of a total 80 points : 25\n",
      "9 Fold\n",
      "Number of mislabeled points out of a total 80 points : 23\n",
      "10 Fold\n",
      "Number of mislabeled points out of a total 80 points : 20\n",
      "Average accuracy of GaussianNB is 0.720000\n"
     ]
    }
   ],
   "source": [
    "kf = KFold(n_splits=10)\n",
    "counter = 1\n",
    "error_data = 0\n",
    "for train, test in kf.split(X):\n",
    "    print (\"%d Fold\" % counter)\n",
    "    counter += 1\n",
    "    # train and predict using your model\n",
    "    # count the accuracy\n",
    "    gnb.fit(np.array(X)[train],data.target[train])\n",
    "    y_pred = gnb.predict(np.array(X)[test])\n",
    "    print (\"Number of mislabeled points out of a total %d points : %d\" % \\\n",
    "    (len(data.target[test]),(data.target[test] != y_pred).sum()))\n",
    "    error_data+=(data.target[test] != y_pred).sum()\n",
    "accuracy=1-error_data/(len(data.target[test])*10)\n",
    "print(\"Average accuracy of GaussianNB is %f\" % accuracy )\n",
    "# print the average accuracy"
   ]
  },
  {
   "cell_type": "markdown",
   "id": "8458de49",
   "metadata": {},
   "source": [
    "# 3b"
   ]
  },
  {
   "cell_type": "code",
   "execution_count": 8,
   "id": "c2f979cb",
   "metadata": {},
   "outputs": [
    {
     "name": "stdout",
     "output_type": "stream",
     "text": [
      "Average accuracy of  random classifier is 0.112500\n"
     ]
    }
   ],
   "source": [
    "import random\n",
    "correct=0\n",
    "for i in range (len(data.target)):\n",
    "    correct+=(data.target[i] == random.randint(0, 7)).sum()\n",
    "accuracy=correct/len(data.target)\n",
    "print(\"Average accuracy of  random classifier is %f\" % accuracy )"
   ]
  },
  {
   "cell_type": "markdown",
   "id": "b521e124",
   "metadata": {},
   "source": [
    "# 3c"
   ]
  },
  {
   "cell_type": "code",
   "execution_count": 9,
   "id": "47180f16",
   "metadata": {},
   "outputs": [
    {
     "name": "stdout",
     "output_type": "stream",
     "text": [
      "(800, 14842)\n"
     ]
    }
   ],
   "source": [
    "count_vect2 = CountVectorizer()\n",
    "X_train_counts2 = count_vect2.fit_transform(data.data).todense()\n",
    "tfidf_transformer = TfidfTransformer()\n",
    "X_train_tfidf = tfidf_transformer.fit_transform(np.asarray(X_train_counts2)).todense()\n",
    "X_withSW = np.asarray(X_train_tfidf)\n",
    "print(X_withSW.shape)"
   ]
  },
  {
   "cell_type": "code",
   "execution_count": 10,
   "id": "07faa6b8",
   "metadata": {},
   "outputs": [
    {
     "name": "stdout",
     "output_type": "stream",
     "text": [
      "1 Fold\n",
      "Number of mislabeled points out of a total 80 points : 27\n",
      "2 Fold\n",
      "Number of mislabeled points out of a total 80 points : 17\n",
      "3 Fold\n",
      "Number of mislabeled points out of a total 80 points : 20\n",
      "4 Fold\n",
      "Number of mislabeled points out of a total 80 points : 28\n",
      "5 Fold\n",
      "Number of mislabeled points out of a total 80 points : 21\n",
      "6 Fold\n",
      "Number of mislabeled points out of a total 80 points : 27\n",
      "7 Fold\n",
      "Number of mislabeled points out of a total 80 points : 18\n",
      "8 Fold\n",
      "Number of mislabeled points out of a total 80 points : 32\n",
      "9 Fold\n",
      "Number of mislabeled points out of a total 80 points : 23\n",
      "10 Fold\n",
      "Number of mislabeled points out of a total 80 points : 29\n",
      "Average accuracy of MultinomialNB with stopwords is 0.697500\n"
     ]
    }
   ],
   "source": [
    "kf = KFold(n_splits=10)\n",
    "counter = 1\n",
    "error_data = 0\n",
    "mnb = MultinomialNB(alpha=1.0) \n",
    "for train, test in kf.split(X_withSW):\n",
    "    print (\"%d Fold\" % counter)\n",
    "    counter += 1\n",
    "    # train and predict using your model\n",
    "    # count the accuracy\n",
    "\n",
    "    mnb.fit(np.array(X_withSW)[train],data.target[train])\n",
    "    y_pred = mnb.predict(np.array(X_withSW)[test])\n",
    "    print (\"Number of mislabeled points out of a total %d points : %d\" % \\\n",
    "    (len(data.target[test]),(data.target[test] != y_pred).sum()))\n",
    "    error_data+=(data.target[test] != y_pred).sum()\n",
    "accuracy=1-error_data/(len(data.target[test])*10)\n",
    "print(\"Average accuracy of MultinomialNB with stopwords is %f\" % accuracy )\n",
    "# print the average accuracy"
   ]
  },
  {
   "cell_type": "markdown",
   "id": "14a91e15",
   "metadata": {},
   "source": [
    "# 3d"
   ]
  },
  {
   "cell_type": "code",
   "execution_count": 11,
   "id": "542b510a",
   "metadata": {},
   "outputs": [
    {
     "name": "stdout",
     "output_type": "stream",
     "text": [
      "['Mac hardware', 'hockey', 'use of guns']\n",
      "[2 2 1 0 2 2 1 1 0 1 2 0 2 0 1 2 2 2 1 1 0 1 2 2 1 0 2 2 1 2 0 1 0 0 2 1 0\n",
      " 0 0 0 0 0 2 0 0 0 2 2 1 2 1 1 2 0 2 2 0 0 1 0 2 0 0 1 1 0 0 2 0 1 1 1 2 1\n",
      " 1 2 0 0 0 2 1 1 0 1 0 1 1 0 0 0 1 1 0 2 0 0 1 1 2 0 2 0 0 1 2 2 1 0 1 0 1\n",
      " 2 0 2 2 1 1 2 1 2 0 1 1 1 1 2 0 1 1 2 1 1 1 1 2 2 1 1 1 0 1 1 1 1 2 2 1 0\n",
      " 0 0 2 1 2 1 2 2 2 0 1 0 2 1 0 0 0 1 2 2 1 0 0 2 2 0 0 2 1 0 2 1 2 0 2 2 1\n",
      " 2 2 1 0 0 0 1 2 2 2 0 2 2 0 2 0 1 0 2 1 2 2 1 0 1 1 2 0 0 2 0 0 2 1 0 1 2\n",
      " 2 1 0 2 1 0 2 2 0 2 2 2 1 0 0 0 2 2 2 2 1 0 2 1 1 2 2 0 1 0 1 0 1 1 0 0 2\n",
      " 0 0 0 2 0 0 1 2 1 2 2 0 0 1 1 2 1 1 0 0 2 2 0 1 2 1 2 1 1 1 0 0 2 1 2 0 1\n",
      " 0 1 2 1]\n",
      "(300, 8159)\n",
      "1 Fold\n",
      "Number of mislabeled points out of a total 30 points : 4\n",
      "2 Fold\n",
      "Number of mislabeled points out of a total 30 points : 2\n",
      "3 Fold\n",
      "Number of mislabeled points out of a total 30 points : 2\n",
      "4 Fold\n",
      "Number of mislabeled points out of a total 30 points : 1\n",
      "5 Fold\n",
      "Number of mislabeled points out of a total 30 points : 2\n",
      "6 Fold\n",
      "Number of mislabeled points out of a total 30 points : 1\n",
      "7 Fold\n",
      "Number of mislabeled points out of a total 30 points : 2\n",
      "8 Fold\n",
      "Number of mislabeled points out of a total 30 points : 1\n",
      "9 Fold\n",
      "Number of mislabeled points out of a total 30 points : 1\n",
      "10 Fold\n",
      "Number of mislabeled points out of a total 30 points : 2\n",
      "Task1:Average accuracy of MultinomialNB with stopwords is 0.940000\n"
     ]
    }
   ],
   "source": [
    "categories1 = ['hockey', 'use of guns', 'Mac hardware']\n",
    "data1 = load_files(container_path=PATH,categories=categories1, \n",
    "                                  shuffle=True, random_state=42)\n",
    "print(data1.target_names)\n",
    "print(data1.target)\n",
    "count_vect = CountVectorizer(stop_words=\"english\")\n",
    "X_train_counts = count_vect.fit_transform(data1.data).todense()\n",
    "tfidf_transformer = TfidfTransformer()\n",
    "X_train_tfidf = tfidf_transformer.fit_transform(np.asarray(X_train_counts)).todense()\n",
    "X_withSW = np.asarray(X_train_tfidf)\n",
    "print(X_withSW.shape)\n",
    "kf = KFold(n_splits=10)\n",
    "counter = 1\n",
    "error_data = 0\n",
    "mnb = MultinomialNB(alpha=1.0) \n",
    "for train, test in kf.split(X_withSW):\n",
    "    print (\"%d Fold\" % counter)\n",
    "    counter += 1\n",
    "    # train and predict using your model\n",
    "    # count the accuracy\n",
    "\n",
    "    mnb.fit(np.array(X_withSW)[train],data1.target[train])\n",
    "    y_pred = mnb.predict(np.array(X_withSW)[test])\n",
    "    print (\"Number of mislabeled points out of a total %d points : %d\" % \\\n",
    "    (len(data1.target[test]),(data1.target[test] != y_pred).sum()))\n",
    "    error_data+=(data1.target[test] != y_pred).sum()\n",
    "accuracy=1-error_data/(len(data1.target[test])*10)\n",
    "print(\"Task1:Average accuracy of MultinomialNB with stopwords is %f\" % accuracy )\n",
    "# print the average accuracy"
   ]
  },
  {
   "cell_type": "code",
   "execution_count": 12,
   "id": "980a26c2",
   "metadata": {},
   "outputs": [
    {
     "name": "stdout",
     "output_type": "stream",
     "text": [
      "['IBM hardware', 'Mac hardware', 'electronics']\n",
      "[2 2 1 0 2 2 1 1 0 1 2 0 2 0 1 2 2 2 1 1 0 1 2 2 1 0 2 2 1 2 0 1 0 0 2 1 0\n",
      " 0 0 0 0 0 2 0 0 0 2 2 1 2 1 1 2 0 2 2 0 0 1 0 2 0 0 1 1 0 0 2 0 1 1 1 2 1\n",
      " 1 2 0 0 0 2 1 1 0 1 0 1 1 0 0 0 1 1 0 2 0 0 1 1 2 0 2 0 0 1 2 2 1 0 1 0 1\n",
      " 2 0 2 2 1 1 2 1 2 0 1 1 1 1 2 0 1 1 2 1 1 1 1 2 2 1 1 1 0 1 1 1 1 2 2 1 0\n",
      " 0 0 2 1 2 1 2 2 2 0 1 0 2 1 0 0 0 1 2 2 1 0 0 2 2 0 0 2 1 0 2 1 2 0 2 2 1\n",
      " 2 2 1 0 0 0 1 2 2 2 0 2 2 0 2 0 1 0 2 1 2 2 1 0 1 1 2 0 0 2 0 0 2 1 0 1 2\n",
      " 2 1 0 2 1 0 2 2 0 2 2 2 1 0 0 0 2 2 2 2 1 0 2 1 1 2 2 0 1 0 1 0 1 1 0 0 2\n",
      " 0 0 0 2 0 0 1 2 1 2 2 0 0 1 1 2 1 1 0 0 2 2 0 1 2 1 2 1 1 1 0 0 2 1 2 0 1\n",
      " 0 1 2 1]\n",
      "(300, 6869)\n",
      "1 Fold\n",
      "Number of mislabeled points out of a total 30 points : 13\n",
      "2 Fold\n",
      "Number of mislabeled points out of a total 30 points : 7\n",
      "3 Fold\n",
      "Number of mislabeled points out of a total 30 points : 6\n",
      "4 Fold\n",
      "Number of mislabeled points out of a total 30 points : 11\n",
      "5 Fold\n",
      "Number of mislabeled points out of a total 30 points : 13\n",
      "6 Fold\n",
      "Number of mislabeled points out of a total 30 points : 8\n",
      "7 Fold\n",
      "Number of mislabeled points out of a total 30 points : 14\n",
      "8 Fold\n",
      "Number of mislabeled points out of a total 30 points : 6\n",
      "9 Fold\n",
      "Number of mislabeled points out of a total 30 points : 7\n",
      "10 Fold\n",
      "Number of mislabeled points out of a total 30 points : 9\n",
      "Task2:Average accuracy of MultinomialNB with stopwords is 0.686667\n"
     ]
    }
   ],
   "source": [
    "categories2 = ['electronics','IBM hardware', 'Mac hardware']\n",
    "data2 = load_files(container_path=PATH,categories=categories2, \n",
    "                                  shuffle=True, random_state=42)\n",
    "print(data2.target_names)\n",
    "print(data2.target)\n",
    "count_vect = CountVectorizer(stop_words=\"english\")\n",
    "X_train_counts = count_vect.fit_transform(data2.data).todense()\n",
    "tfidf_transformer = TfidfTransformer()\n",
    "X_train_tfidf = tfidf_transformer.fit_transform(np.asarray(X_train_counts)).todense()\n",
    "X_withSW = np.asarray(X_train_tfidf)\n",
    "print(X_withSW.shape)\n",
    "kf = KFold(n_splits=10)\n",
    "counter = 1\n",
    "error_data = 0\n",
    "mnb = MultinomialNB(alpha=1.0) \n",
    "for train, test in kf.split(X_withSW):\n",
    "    print (\"%d Fold\" % counter)\n",
    "    counter += 1\n",
    "    # train and predict using your model\n",
    "    # count the accuracy\n",
    "\n",
    "    mnb.fit(np.array(X_withSW)[train],data1.target[train])\n",
    "    y_pred = mnb.predict(np.array(X_withSW)[test])\n",
    "    print (\"Number of mislabeled points out of a total %d points : %d\" % \\\n",
    "    (len(data2.target[test]),(data2.target[test] != y_pred).sum()))\n",
    "    error_data+=(data2.target[test] != y_pred).sum()\n",
    "accuracy=1-error_data/(len(data2.target[test])*10)\n",
    "print(\"Task2:Average accuracy of MultinomialNB with stopwords is %f\" % accuracy )\n",
    "# print the average accuracy"
   ]
  },
  {
   "cell_type": "code",
   "execution_count": null,
   "id": "2cc523b9",
   "metadata": {},
   "outputs": [],
   "source": []
  }
 ],
 "metadata": {
  "kernelspec": {
   "display_name": "Python 3 (ipykernel)",
   "language": "python",
   "name": "python3"
  },
  "language_info": {
   "codemirror_mode": {
    "name": "ipython",
    "version": 3
   },
   "file_extension": ".py",
   "mimetype": "text/x-python",
   "name": "python",
   "nbconvert_exporter": "python",
   "pygments_lexer": "ipython3",
   "version": "3.9.13"
  }
 },
 "nbformat": 4,
 "nbformat_minor": 5
}
