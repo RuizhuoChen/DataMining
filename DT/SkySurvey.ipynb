{
 "cells": [
  {
   "cell_type": "markdown",
   "id": "a4ba865a",
   "metadata": {},
   "source": [
    "# 1"
   ]
  },
  {
   "cell_type": "code",
   "execution_count": 1,
   "id": "efe7abfc",
   "metadata": {},
   "outputs": [
    {
     "name": "stdout",
     "output_type": "stream",
     "text": [
      "Requirement already satisfied: graphviz in d:\\anaconda\\lib\\site-packages (0.20.1)\n"
     ]
    }
   ],
   "source": [
    "import sys\n",
    "!{sys.executable} -m pip install graphviz"
   ]
  },
  {
   "cell_type": "code",
   "execution_count": 2,
   "id": "7f94887f",
   "metadata": {},
   "outputs": [
    {
     "name": "stdout",
     "output_type": "stream",
     "text": [
      "Requirement already satisfied: pydot in d:\\anaconda\\lib\\site-packages (1.4.2)\n",
      "Requirement already satisfied: pyparsing>=2.1.4 in d:\\anaconda\\lib\\site-packages (from pydot) (3.0.9)\n"
     ]
    }
   ],
   "source": [
    "!{sys.executable} -m pip install pydot"
   ]
  },
  {
   "cell_type": "code",
   "execution_count": 3,
   "id": "df19fe5a",
   "metadata": {},
   "outputs": [],
   "source": [
    "from sklearn import tree\n",
    "from sklearn.datasets import load_iris\n",
    "import pydot\n",
    "import numpy as np\n",
    "import random\n",
    "from numpy.random import RandomState\n",
    "from scipy import stats\n",
    "import math\n",
    "import graphviz\n",
    "import pandas as pd\n",
    "\n",
    "df_data = pd.read_csv('skysurvey/training_data.csv')\n",
    "df_class = pd.read_csv('skysurvey/training_class.csv')\n",
    "\n",
    "list1=['stars','galaxies','quasars']\n",
    "target_names = np.array(list1)\n",
    "list2=['ra', 'dec', 'u', 'g', 'r', 'i', 'z', 'run', 'rerun', 'camcol', 'fifield', 'specobjid', 'redshift', 'plate', 'mjd','fifiberid']\n",
    "feature_names = np.array(list2)\n",
    "\n",
    "clf = tree.DecisionTreeClassifier(criterion='gini',min_samples_leaf=0.01,random_state=RandomState(2018))\n",
    "clf = clf.fit(df_data, df_class)\n",
    "\n",
    "\n",
    "#to visualize the decision tree\n",
    "dot_data = tree.export_graphviz(clf, out_file=None, \n",
    "                         feature_names=feature_names,  \n",
    "                         class_names=target_names,  \n",
    "                         filled=True, rounded=True,  \n",
    "                         special_characters=True)  \n",
    "\n",
    "graphv = graphviz.Source(dot_data)  \n",
    "\n",
    "#print the decision tree in a pdf file\n",
    "#from sklearn.externals.six import StringIO\n",
    "from six import StringIO\n",
    "import pydot\n",
    "import pydotplus\n",
    "import graphviz\n",
    "\n",
    "import pydot\n",
    "dot_data = StringIO()\n",
    "tree.export_graphviz(clf, out_file=dot_data, feature_names=feature_names,  \n",
    "                         class_names=target_names,  \n",
    "                         filled=True, rounded=True,  \n",
    "                         special_characters=True  \n",
    "                    )\n",
    "graph = pydot.graph_from_dot_data(dot_data.getvalue())\n",
    "graph[0].write_pdf(\"SkySurvey.pdf\")"
   ]
  },
  {
   "cell_type": "markdown",
   "id": "b7ba229d",
   "metadata": {},
   "source": [
    "# 2"
   ]
  },
  {
   "cell_type": "code",
   "execution_count": 4,
   "id": "d6a3e792",
   "metadata": {},
   "outputs": [
    {
     "name": "stdout",
     "output_type": "stream",
     "text": [
      "training errors:0.01130113011301126\n"
     ]
    }
   ],
   "source": [
    "print (\"training errors:\"+str((1-clf.score(df_data,df_class))))"
   ]
  },
  {
   "cell_type": "code",
   "execution_count": 5,
   "id": "317120cf",
   "metadata": {},
   "outputs": [
    {
     "name": "stdout",
     "output_type": "stream",
     "text": [
      "Number of leaf nodes in the tree:28\n"
     ]
    }
   ],
   "source": [
    "leaf_count=0\n",
    "for i in range (clf.tree_.node_count):\n",
    "    if clf.tree_.children_left[i]==-1:\n",
    "        leaf_count+=1\n",
    "print(\"Number of leaf nodes in the tree:\" + str(leaf_count))"
   ]
  },
  {
   "cell_type": "code",
   "execution_count": 6,
   "id": "3e6b41ed",
   "metadata": {},
   "outputs": [
    {
     "name": "stdout",
     "output_type": "stream",
     "text": [
      "generalization error:126.99999999999959\n"
     ]
    }
   ],
   "source": [
    "print(\"generalization error:\"+str((1-clf.score(df_data,df_class))*len(df_data)+0.5*(leaf_count)))"
   ]
  },
  {
   "cell_type": "markdown",
   "id": "98eff649",
   "metadata": {},
   "source": [
    "# 3"
   ]
  },
  {
   "cell_type": "code",
   "execution_count": 7,
   "id": "87060809",
   "metadata": {},
   "outputs": [
    {
     "data": {
      "text/plain": [
       "11"
      ]
     },
     "execution_count": 7,
     "metadata": {},
     "output_type": "execute_result"
    }
   ],
   "source": [
    "clf.get_depth()"
   ]
  },
  {
   "cell_type": "code",
   "execution_count": 8,
   "id": "035ba804",
   "metadata": {},
   "outputs": [
    {
     "name": "stdout",
     "output_type": "stream",
     "text": [
      "generalization error when max_depth=2: 878.0000000000002\n",
      "generalization error when max_depth=6: 114.99999999999959\n",
      "generalization error when max_depth=14: 116.99999999999959\n",
      "generalization error when max_depth=24: 119.49999999999959\n",
      "generalization error when max_depth=32: 121.49999999999959\n",
      "generalization error when max_depth=34: 121.99999999999959\n",
      "generalization error when max_depth=38: 122.99999999999959\n",
      "generalization error when max_depth=44: 124.49999999999959\n",
      "generalization error when max_depth=50: 125.99999999999959\n",
      "generalization error when max_depth=52: 126.49999999999959\n",
      "generalization error when max_depth=54: 126.99999999999959\n"
     ]
    }
   ],
   "source": [
    "for i in range(1,12):\n",
    "    clf = tree.DecisionTreeClassifier(criterion='gini',min_samples_leaf=0.01,random_state=RandomState(2018),max_depth=i)\n",
    "    clf = clf.fit(df_data, df_class)\n",
    "    leaf_count=0\n",
    "    for i in range (clf.tree_.node_count):\n",
    "        if clf.tree_.children_left[i]==-1:\n",
    "            leaf_count+=1\n",
    "    print(\"generalization error when max_depth=\"+str(i)+': '+str((1-clf.score(df_data,df_class))*len(df_data)+0.5*(leaf_count)))"
   ]
  },
  {
   "cell_type": "code",
   "execution_count": 10,
   "id": "a05e2e44",
   "metadata": {},
   "outputs": [],
   "source": [
    "clf = tree.DecisionTreeClassifier(criterion='gini',min_samples_leaf=0.01,random_state=RandomState(2018),max_depth=2)\n",
    "clf = clf.fit(df_data, df_class)\n",
    "dot_data = StringIO()\n",
    "tree.export_graphviz(clf, out_file=dot_data, feature_names=feature_names,  \n",
    "                         class_names=target_names,  \n",
    "                         filled=True, rounded=True,  \n",
    "                         special_characters=True  \n",
    "                    )\n",
    "graph = pydot.graph_from_dot_data(dot_data.getvalue())\n",
    "graph[0].write_pdf(\"max_length=2.pdf\")"
   ]
  },
  {
   "cell_type": "markdown",
   "id": "c19ebf13",
   "metadata": {},
   "source": [
    "# 7"
   ]
  },
  {
   "cell_type": "code",
   "execution_count": 11,
   "id": "47f1a89f",
   "metadata": {},
   "outputs": [
    {
     "name": "stdout",
     "output_type": "stream",
     "text": [
      "[12 12 -2 -2 12 -2 -2]\n",
      "[ 1  2 -1 -1  5 -1 -1]\n",
      "[ 4  3 -1 -1  6 -1 -1]\n",
      "[0.57058107 0.01144446 0.02244609 0.00179011 0.25008085 0.02522176\n",
      " 0.05953854]\n",
      "[9999 4171 1938 2233 5828 5014  814]\n",
      "[[[4.151e+03 4.998e+03 8.500e+02]]\n",
      "\n",
      " [[4.147e+03 2.300e+01 1.000e+00]]\n",
      "\n",
      " [[1.916e+03 2.200e+01 0.000e+00]]\n",
      "\n",
      " [[2.231e+03 1.000e+00 1.000e+00]]\n",
      "\n",
      " [[4.000e+00 4.975e+03 8.490e+02]]\n",
      "\n",
      " [[4.000e+00 4.950e+03 6.000e+01]]\n",
      "\n",
      " [[0.000e+00 2.500e+01 7.890e+02]]]\n"
     ]
    }
   ],
   "source": [
    "n_nodes = clf.tree_.node_count\n",
    "children_left = clf.tree_.children_left\n",
    "children_right = clf.tree_.children_right\n",
    "feature = clf.tree_.feature\n",
    "threshold = clf.tree_.threshold\n",
    "impurity = clf.tree_.impurity\n",
    "value = clf.tree_.value\n",
    "samples = clf.tree_. n_node_samples\n",
    "print(feature)\n",
    "print(children_left)\n",
    "print(children_right)\n",
    "print(impurity)\n",
    "print(samples)\n",
    "print(value)"
   ]
  },
  {
   "cell_type": "code",
   "execution_count": 12,
   "id": "86aa9713",
   "metadata": {},
   "outputs": [
    {
     "name": "stdout",
     "output_type": "stream",
     "text": [
      "Requirement already satisfied: anytree in d:\\anaconda\\lib\\site-packages (2.8.0)\n",
      "Requirement already satisfied: six>=1.9.0 in d:\\anaconda\\lib\\site-packages (from anytree) (1.16.0)\n"
     ]
    }
   ],
   "source": [
    "import sys\n",
    "!{sys.executable} -m pip install anytree\n",
    "import anytree\n",
    "from anytree import Node, RenderTree"
   ]
  },
  {
   "cell_type": "code",
   "execution_count": 13,
   "id": "50e12923",
   "metadata": {},
   "outputs": [
    {
     "name": "stdout",
     "output_type": "stream",
     "text": [
      "[-1  0  1  1  0  4  4]\n"
     ]
    }
   ],
   "source": [
    "node_depth = np.zeros(shape=n_nodes, dtype=np.int64)\n",
    "parents = np.zeros(shape=n_nodes, dtype=np.int64)\n",
    "is_leaves = np.zeros(shape=n_nodes, dtype=bool)\n",
    "stack = [(0, 0)]  # start with the root node id (0) and its depth (0)\n",
    "parents[0]=-1\n",
    "while len(stack) > 0:\n",
    "    # `pop` ensures each node is only visited once\n",
    "    node_id, depth = stack.pop()\n",
    "    node_depth[node_id] = depth\n",
    "    \n",
    "    # If the left and right child of a node is not the same we have a split\n",
    "    # node\n",
    "    is_split_node = children_left[node_id] != children_right[node_id]\n",
    "    # If a split node, append left and right children and depth to `stack`\n",
    "    # so we can loop through them\n",
    "    if is_split_node:\n",
    "        stack.append((children_left[node_id], depth + 1))\n",
    "        stack.append((children_right[node_id], depth + 1))\n",
    "        parents[children_left[node_id]]=node_id\n",
    "        parents[children_right[node_id]]=node_id\n",
    "    else:\n",
    "        is_leaves[node_id] = True\n",
    "    \n",
    "print(parents)"
   ]
  },
  {
   "cell_type": "code",
   "execution_count": 14,
   "id": "9a1b6010",
   "metadata": {},
   "outputs": [],
   "source": [
    "from anytree.exporter import DotExporter\n",
    "l=list()\n",
    "del_l=list()\n",
    "for i in range(n_nodes):\n",
    "    if is_leaves[i]:\n",
    "        if (i+1)<n_nodes and is_leaves[i+1]:\n",
    "            left=children_left[parents[i]]\n",
    "            right=children_right[parents[i]]\n",
    "            gerror_before = samples[parents[i]]-np.max(value[parents[i]])+ 0.5* (n_nodes-2)\n",
    "            gerror_after = (samples[left]-np.max(value[left])+samples[left]-np.max(value[left]))+0.5*n_nodes\n",
    "            if gerror_before<gerror_after:\n",
    "                del_l.append(left)\n",
    "                del_l.append(right)\n",
    "                is_leaves[parents[i]]=True\n",
    "\n",
    "node_list=[n_nodes]\n",
    "\n",
    "str = \"node={node}\\n{feature}<={threshold}\\ngini={error}\\nsamples={sample}\\nvalue ={values}\".format(\n",
    "                node=0,\n",
    "                feature=list2[feature[0]],\n",
    "                threshold=threshold[0],\n",
    "                error=impurity[0],\n",
    "                sample=samples[0],\n",
    "                values=value[0],)\n",
    "root=Node(str)\n",
    "node_list.insert(0,root)\n",
    "node_list_num=1\n",
    "for i in range (1,n_nodes):\n",
    "    NUM=0\n",
    "    if(i in del_l):\n",
    "        continue\n",
    "    for j in range (0,len(del_l)):\n",
    "        if(parents[i]>del_l[j]):\n",
    "            NUM+=1\n",
    "    parents[i]-=NUM\n",
    "    if is_leaves[i]:\n",
    "        str = \"node={node}\\ngini={error}\\nsamples={sample}\\nvalue ={values}\".format(\n",
    "                node=node_list_num,\n",
    "                error=impurity[i],\n",
    "                sample=samples[i],\n",
    "                values=value[i],)\n",
    "    else:\n",
    "        str = \"node={node}\\n{feature}<={threshold}\\ngini={error}\\nsamples={sample}\\nvalue ={values}\".format(\n",
    "                    node=node_list_num,\n",
    "                    feature=list2[feature[i]],\n",
    "                    threshold=threshold[i],\n",
    "                    error=impurity[i],\n",
    "                    sample=samples[i],\n",
    "                    values=value[i],)\n",
    "    node_list.insert(node_list_num,Node(str, parent=node_list[parents[i]]))\n",
    "    node_list_num+=1\n",
    "DotExporter(root).to_picture(\"root.png\")"
   ]
  },
  {
   "cell_type": "code",
   "execution_count": null,
   "id": "05d79d1e",
   "metadata": {},
   "outputs": [],
   "source": []
  }
 ],
 "metadata": {
  "kernelspec": {
   "display_name": "Python 3 (ipykernel)",
   "language": "python",
   "name": "python3"
  },
  "language_info": {
   "codemirror_mode": {
    "name": "ipython",
    "version": 3
   },
   "file_extension": ".py",
   "mimetype": "text/x-python",
   "name": "python",
   "nbconvert_exporter": "python",
   "pygments_lexer": "ipython3",
   "version": "3.9.13"
  }
 },
 "nbformat": 4,
 "nbformat_minor": 5
}
